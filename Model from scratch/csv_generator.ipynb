{
 "cells": [
  {
   "attachments": {},
   "cell_type": "markdown",
   "metadata": {},
   "source": [
    "# CSV Generator\n",
    "\n",
    "### This Python script takes input from Dataset file (train/image, test/image, train/labels, test/labels) and convert them to annotation (.xls) format. \n",
    "\n",
    "### Note: This is only required for YOLOv3 from scratch since YOLOv3 requires annotation path in input dataloading."
   ]
  },
  {
   "attachments": {},
   "cell_type": "markdown",
   "metadata": {},
   "source": [
    "#### Files that can generate csv with path labels"
   ]
  },
  {
   "cell_type": "code",
   "execution_count": 2,
   "metadata": {},
   "outputs": [],
   "source": [
    "#With path label\n",
    "import os\n",
    "import csv\n",
    "\n",
    "def generate_csv(folder_name):\n",
    "    image_folder = os.path.join(folder_name, \"images\")\n",
    "    label_folder = os.path.join(folder_name, \"labels\")\n",
    "\n",
    "    image_files = os.listdir(image_folder)\n",
    "    label_files = os.listdir(label_folder)\n",
    "\n",
    "    with open(f\"{folder_name}.csv\", mode=\"w\", newline=\"\") as csv_file:\n",
    "        writer = csv.writer(csv_file)\n",
    "        for image_file in image_files:\n",
    "            if image_file.endswith(\".png\"):\n",
    "                image_path = os.path.join(image_folder, image_file)\n",
    "                label_file = image_file.replace(\".png\", \".txt\")\n",
    "                if label_file in label_files:\n",
    "                    label_path = os.path.join(label_folder, label_file)\n",
    "                    writer.writerow([image_path, label_path])\n",
    "\n",
    "# CSV for train \n",
    "generate_csv(\"train\")\n",
    "\n",
    "# CSV for test \n",
    "generate_csv(\"test\")"
   ]
  },
  {
   "attachments": {},
   "cell_type": "markdown",
   "metadata": {},
   "source": [
    "#### Files that can generate csv without path labels (Used in YOLOv3 scratch)"
   ]
  },
  {
   "cell_type": "code",
   "execution_count": null,
   "metadata": {},
   "outputs": [],
   "source": [
    "##Without path label\n",
    "\n",
    "import os\n",
    "import csv\n",
    "\n",
    "def generate_csv(folder_name):\n",
    "    image_folder = os.path.join(folder_name, \"images\")\n",
    "    label_folder = os.path.join(folder_name, \"labels\")\n",
    "\n",
    "    image_files = os.listdir(image_folder)\n",
    "    label_files = os.listdir(label_folder)\n",
    "\n",
    "    with open(f\"{folder_name}.csv\", mode=\"w\", newline=\"\") as csv_file:\n",
    "        writer = csv.writer(csv_file)\n",
    "        for image_file in image_files:\n",
    "            if image_file.endswith(\".png\"):\n",
    "                image_path = os.path.join(image_folder, image_file)\n",
    "                label_file = image_file.replace(\".png\", \".txt\")\n",
    "                if label_file in label_files:\n",
    "                    label_path = os.path.join(label_folder, label_file)\n",
    "                    # Extract just the file names using os.path.basename()\n",
    "                    image_file_name = os.path.basename(image_file)\n",
    "                    label_file_name = os.path.basename(label_file)\n",
    "                    writer.writerow([image_file_name, label_file_name])\n",
    "\n",
    "# CSV for train \n",
    "generate_csv(\"train\")\n",
    "\n",
    "# CSV for test \n",
    "generate_csv(\"test\")\n"
   ]
  }
 ],
 "metadata": {
  "kernelspec": {
   "display_name": "Python 3.9 (pytorch)",
   "language": "python",
   "name": "pytorch"
  },
  "language_info": {
   "codemirror_mode": {
    "name": "ipython",
    "version": 3
   },
   "file_extension": ".py",
   "mimetype": "text/x-python",
   "name": "python",
   "nbconvert_exporter": "python",
   "pygments_lexer": "ipython3",
   "version": "3.9.16"
  },
  "orig_nbformat": 4
 },
 "nbformat": 4,
 "nbformat_minor": 2
}
