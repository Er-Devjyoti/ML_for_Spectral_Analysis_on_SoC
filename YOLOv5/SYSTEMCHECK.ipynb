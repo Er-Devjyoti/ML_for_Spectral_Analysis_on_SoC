{
 "cells": [
  {
   "cell_type": "code",
   "execution_count": 1,
   "id": "2b1a0cd8-33fe-4fc5-990c-69e075f97ec7",
   "metadata": {},
   "outputs": [],
   "source": [
    "import torch"
   ]
  },
  {
   "cell_type": "code",
   "execution_count": 2,
   "id": "b8078638-9276-4ecf-867e-14860d08baa4",
   "metadata": {},
   "outputs": [
    {
     "data": {
      "text/plain": [
       "'2.0.1+rocm5.4.2'"
      ]
     },
     "execution_count": 2,
     "metadata": {},
     "output_type": "execute_result"
    }
   ],
   "source": [
    "torch.__version__"
   ]
  },
  {
   "cell_type": "code",
   "execution_count": 3,
   "id": "4f90bf4a-fe8a-409a-a336-348b243d336e",
   "metadata": {},
   "outputs": [
    {
     "name": "stdout",
     "output_type": "stream",
     "text": [
      "\n",
      "\n",
      "Checking ROCM support...\n",
      "GOOD: ROCM devices found:  6\n",
      "Checking PyTorch...\n",
      "GOOD: PyTorch is working fine.\n",
      "Checking user groups...\n",
      "GOOD: The user devdas is in RENDER and VIDEO groups.\n",
      "GOOD: PyTorch ROCM support found.\n",
      "Testing PyTorch ROCM support...\n",
      "Everything fine! You can run PyTorch code inside of: \n",
      "--->  AMD EPYC 7V13 64-Core Processor      \n",
      "--->  AMD EPYC 7V13 64-Core Processor      \n",
      "--->  gfx90a             \n",
      "--->  gfx90a             \n",
      "--->  gfx90a             \n",
      "--->  gfx90a             \n"
     ]
    }
   ],
   "source": [
    "import torch, grp, pwd, os, subprocess\n",
    "devices = []\n",
    "try:\n",
    "\tprint(\"\\n\\nChecking ROCM support...\")\n",
    "\tresult = subprocess.run(['rocminfo'], stdout=subprocess.PIPE)\n",
    "\tcmd_str = result.stdout.decode('utf-8')\n",
    "\tcmd_split = cmd_str.split('Agent ')\n",
    "\tfor part in cmd_split:\n",
    "\t\titem_single = part[0:1]\n",
    "\t\titem_double = part[0:2]\n",
    "\t\tif item_single.isnumeric() or item_double.isnumeric():\n",
    "\t\t\tnew_split = cmd_str.split('Agent '+item_double)\n",
    "\t\t\tdevice = new_split[1].split('Marketing Name:')[0].replace('  Name:                    ', '').replace('\\n','').replace('                  ','').split('Uuid:')[0].split('*******')[1]\n",
    "\t\t\tdevices.append(device)\n",
    "\tif len(devices) > 0:\n",
    "\t\tprint('GOOD: ROCM devices found: ', len(devices))\n",
    "\telse:\n",
    "\t\tprint('BAD: No ROCM devices found.')\n",
    "\n",
    "\tprint(\"Checking PyTorch...\")\n",
    "\tx = torch.rand(5, 3)\n",
    "\thas_torch = False\n",
    "\tlen_x = len(x)\n",
    "\tif len_x == 5:\n",
    "\t\thas_torch = True\n",
    "\t\tfor i in x:\n",
    "\t\t\tif len(i) == 3:\n",
    "\t\t\t\thas_torch = True\n",
    "\t\t\telse:\n",
    "\t\t\t\thas_torch = False\n",
    "\tif has_torch:\n",
    "\t\tprint('GOOD: PyTorch is working fine.')\n",
    "\telse:\n",
    "\t\tprint('BAD: PyTorch is NOT working.')\n",
    "\n",
    "\n",
    "\tprint(\"Checking user groups...\")\n",
    "\tuser = os.getlogin()\n",
    "\tgroups = [g.gr_name for g in grp.getgrall() if user in g.gr_mem]\n",
    "\tgid = pwd.getpwnam(user).pw_gid\n",
    "\tgroups.append(grp.getgrgid(gid).gr_name)\n",
    "\tif 'render' in groups and 'video' in groups:\n",
    "\t\tprint('GOOD: The user', user, 'is in RENDER and VIDEO groups.')\n",
    "\telse:\n",
    "\t\tprint('BAD: The user', user, 'is NOT in RENDER and VIDEO groups. This is necessary in order to PyTorch use HIP resources')\n",
    "\n",
    "\tif torch.cuda.is_available():\n",
    "\t\tprint(\"GOOD: PyTorch ROCM support found.\")\n",
    "\t\tt = torch.tensor([5, 5, 5], dtype=torch.int64, device='cuda')\n",
    "\t\tprint('Testing PyTorch ROCM support...')\n",
    "\t\tif str(t) == \"tensor([5, 5, 5], device='cuda:0')\":\n",
    "\t\t\tprint('Everything fine! You can run PyTorch code inside of: ')\n",
    "\t\t\tfor device in devices:\n",
    "\t\t\t\tprint('---> ', device)\n",
    "\telse:\n",
    "\t\tprint(\"BAD: PyTorch ROCM support NOT found.\")\n",
    "except:\n",
    "\tprint('Cannot find rocminfo command information. Unable to determine if AMDGPU drivers with ROCM support were installed.')"
   ]
  },
  {
   "cell_type": "code",
   "execution_count": null,
   "id": "bc6dc25e-148e-4ce4-826a-9a59f64fad26",
   "metadata": {},
   "outputs": [],
   "source": []
  },
  {
   "cell_type": "code",
   "execution_count": null,
   "id": "cdc62db5-4b53-4d17-8ec0-caf0b9625654",
   "metadata": {},
   "outputs": [],
   "source": []
  },
  {
   "cell_type": "code",
   "execution_count": null,
   "id": "802acf97-e1da-4205-8fa6-1bd45caa50d0",
   "metadata": {},
   "outputs": [],
   "source": []
  }
 ],
 "metadata": {
  "kernelspec": {
   "display_name": "Python 3 (ipykernel)",
   "language": "python",
   "name": "python3"
  },
  "language_info": {
   "codemirror_mode": {
    "name": "ipython",
    "version": 3
   },
   "file_extension": ".py",
   "mimetype": "text/x-python",
   "name": "python",
   "nbconvert_exporter": "python",
   "pygments_lexer": "ipython3",
   "version": "3.9.7"
  }
 },
 "nbformat": 4,
 "nbformat_minor": 5
}
